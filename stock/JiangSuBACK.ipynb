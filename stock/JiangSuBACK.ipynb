{
 "cells": [
  {
   "cell_type": "code",
   "execution_count": 1,
   "metadata": {
    "collapsed": true
   },
   "outputs": [],
   "source": [
    "import tushare as ts\n",
    "import pandas as pd\n",
    "import matplotlib.pyplot as plt\n",
    "from datetime import datetime\n",
    "import time"
   ]
  },
  {
   "cell_type": "code",
   "execution_count": 2,
   "metadata": {
    "collapsed": true
   },
   "outputs": [],
   "source": [
    "ts.set_token('f1e99e550b4835593615bc080fcd1fe08ed3019e51b613ce7aceabae')\n",
    "pro = ts.pro_api()\n",
    "pro = ts.pro_api('f1e99e550b4835593615bc080fcd1fe08ed3019e51b613ce7aceabae')"
   ]
  },
  {
   "cell_type": "code",
   "execution_count": 3,
   "metadata": {
    "collapsed": true
   },
   "outputs": [],
   "source": [
    "df = pro.daily(ts_code='600919.SH', start_date='20090618', end_date='20190618')\n",
    "date = pd.to_datetime(df['trade_date'])"
   ]
  },
  {
   "cell_type": "code",
   "execution_count": 4,
   "metadata": {
    "collapsed": true
   },
   "outputs": [],
   "source": [
    "def count_up_down(target_df,cnt_list=[]):\n",
    "    for i in range(len(df)):\n",
    "        if float(target_df['close'][i])<float(target_df['open'][i]):\n",
    "            cnt_list.append(-1)\n",
    "        else:\n",
    "            cnt_list.append(1)  \n",
    "    return cnt_list"
   ]
  },
  {
   "cell_type": "code",
   "execution_count": 5,
   "metadata": {},
   "outputs": [],
   "source": [
    "tmp = []\n",
    "cnt_res =  count_up_down(df,tmp)"
   ]
  },
  {
   "cell_type": "code",
   "execution_count": 6,
   "metadata": {
    "collapsed": true
   },
   "outputs": [],
   "source": [
    "week_list = []\n",
    "for i in range(len(df)):\n",
    "    week_list.append(date[i].weekday())"
   ]
  },
  {
   "cell_type": "code",
   "execution_count": 7,
   "metadata": {},
   "outputs": [],
   "source": [
    "Monday_up = 0;\n",
    "Tuesday_up=0\n",
    "Wednesday_up=0\n",
    "Thursday_up=0\n",
    "Friday_up=0\n",
    "\n",
    "for i in range(len(df)):\n",
    "    if (0==week_list[i] and 1 == cnt_res[i]):\n",
    "        Monday_up+=1\n",
    "    elif (1==week_list[i] and 1 == cnt_res[i]):\n",
    "        Tuesday_up+=1\n",
    "    elif (2==week_list[i] and 1 == cnt_res[i]):\n",
    "        Wednesday_up+=1\n",
    "    elif (3==week_list[i] and 1 == cnt_res[i]):  \n",
    "        Thursday_up+=1\n",
    "    elif (4==week_list[i] and 1 == cnt_res[i]):  \n",
    "        Friday_up+=1"
   ]
  },
  {
   "cell_type": "code",
   "execution_count": 8,
   "metadata": {},
   "outputs": [],
   "source": [
    "def single_list(arr, target):\n",
    "    return arr.count(target)"
   ]
  },
  {
   "cell_type": "code",
   "execution_count": 9,
   "metadata": {},
   "outputs": [],
   "source": [
    "week_up = [Monday_up,Tuesday_up,Wednesday_up,Thursday_up,Friday_up]\n",
    "percent_up =[]\n",
    "for i in range(5):\n",
    "    percent_up.append(week_up[i]/single_list(week_list,i))"
   ]
  },
  {
   "cell_type": "code",
   "execution_count": 10,
   "metadata": {},
   "outputs": [
    {
     "name": "stdout",
     "output_type": "stream",
     "text": [
      "    percent       week\n",
      "0  0.548148     Monday\n",
      "1  0.560284    Tuesday\n",
      "2  0.447552  Wednesday\n",
      "3  0.510638   Thursday\n",
      "4  0.517986     Friday\n"
     ]
    }
   ],
   "source": [
    "week=['Monday','Tuesday','Wednesday','Thursday','Friday']#列表a\n",
    "c={\"percent\" : percent_up,\n",
    "   \"week\" : week}#将列表a，b转换成字典\n",
    "data=pd.DataFrame(c)#将字典转换成为数据框\n",
    "print(data)"
   ]
  },
  {
   "cell_type": "code",
   "execution_count": 11,
   "metadata": {},
   "outputs": [
    {
     "data": {
      "text/plain": [
       "<matplotlib.figure.Figure at 0x28da380ba90>"
      ]
     },
     "metadata": {},
     "output_type": "display_data"
    },
    {
     "data": {
      "image/png": "[encoded data removed]",
      "text/plain": [
       "<matplotlib.figure.Figure at 0x28da384f7b8>"
      ]
     },
     "metadata": {},
     "output_type": "display_data"
    }
   ],
   "source": [
    "plt.figure()\n",
    "data.plot(kind='bar')\n",
    "plt.show()"
   ]
  },
  {
   "cell_type": "code",
   "execution_count": null,
   "metadata": {},
   "outputs": [],
   "source": []
  },
  {
   "cell_type": "code",
   "execution_count": null,
   "metadata": {},
   "outputs": [],
   "source": []
  },
  {
   "cell_type": "code",
   "execution_count": null,
   "metadata": {},
   "outputs": [],
   "source": []
  },
  {
   "cell_type": "code",
   "execution_count": null,
   "metadata": {
    "collapsed": true
   },
   "outputs": [],
   "source": []
  }
 ],
 "metadata": {
  "kernelspec": {
   "display_name": "Python 3",
   "language": "python",
   "name": "python3"
  },
  "language_info": {
   "codemirror_mode": {
    "name": "ipython",
    "version": 3
   },
   "file_extension": ".py",
   "mimetype": "text/x-python",
   "name": "python",
   "nbconvert_exporter": "python",
   "pygments_lexer": "ipython3",
   "version": "3.6.3"
  }
 },
 "nbformat": 4,
 "nbformat_minor": 2
}
